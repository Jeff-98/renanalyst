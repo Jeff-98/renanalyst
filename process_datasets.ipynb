{
 "cells": [
  {
   "cell_type": "code",
   "execution_count": 4,
   "metadata": {},
   "outputs": [],
   "source": [
    "import pandas as pd\n",
    "import numpy as np"
   ]
  },
  {
   "cell_type": "code",
   "execution_count": 5,
   "metadata": {},
   "outputs": [
    {
     "data": {
      "text/html": [
       "<div>\n",
       "<style scoped>\n",
       "    .dataframe tbody tr th:only-of-type {\n",
       "        vertical-align: middle;\n",
       "    }\n",
       "\n",
       "    .dataframe tbody tr th {\n",
       "        vertical-align: top;\n",
       "    }\n",
       "\n",
       "    .dataframe thead th {\n",
       "        text-align: right;\n",
       "    }\n",
       "</style>\n",
       "<table border=\"1\" class=\"dataframe\">\n",
       "  <thead>\n",
       "    <tr style=\"text-align: right;\">\n",
       "      <th></th>\n",
       "      <th>longitude</th>\n",
       "      <th>latitude</th>\n",
       "      <th>time</th>\n",
       "      <th>ssr</th>\n",
       "    </tr>\n",
       "  </thead>\n",
       "  <tbody>\n",
       "    <tr>\n",
       "      <th>0</th>\n",
       "      <td>-13.16</td>\n",
       "      <td>35.810001</td>\n",
       "      <td>2021-01-01 12:00:00</td>\n",
       "      <td>1056763.1</td>\n",
       "    </tr>\n",
       "    <tr>\n",
       "      <th>1</th>\n",
       "      <td>-13.16</td>\n",
       "      <td>35.810001</td>\n",
       "      <td>2021-02-01 12:00:00</td>\n",
       "      <td>1675048.8</td>\n",
       "    </tr>\n",
       "    <tr>\n",
       "      <th>2</th>\n",
       "      <td>-13.16</td>\n",
       "      <td>35.810001</td>\n",
       "      <td>2021-03-01 12:00:00</td>\n",
       "      <td>2113685.8</td>\n",
       "    </tr>\n",
       "    <tr>\n",
       "      <th>3</th>\n",
       "      <td>-13.16</td>\n",
       "      <td>35.810001</td>\n",
       "      <td>2021-04-01 12:00:00</td>\n",
       "      <td>2496103.2</td>\n",
       "    </tr>\n",
       "    <tr>\n",
       "      <th>4</th>\n",
       "      <td>-13.16</td>\n",
       "      <td>35.810001</td>\n",
       "      <td>2021-05-01 12:00:00</td>\n",
       "      <td>2831660.0</td>\n",
       "    </tr>\n",
       "  </tbody>\n",
       "</table>\n",
       "</div>"
      ],
      "text/plain": [
       "   longitude   latitude                 time        ssr\n",
       "0     -13.16  35.810001  2021-01-01 12:00:00  1056763.1\n",
       "1     -13.16  35.810001  2021-02-01 12:00:00  1675048.8\n",
       "2     -13.16  35.810001  2021-03-01 12:00:00  2113685.8\n",
       "3     -13.16  35.810001  2021-04-01 12:00:00  2496103.2\n",
       "4     -13.16  35.810001  2021-05-01 12:00:00  2831660.0"
      ]
     },
     "execution_count": 5,
     "metadata": {},
     "output_type": "execute_result"
    }
   ],
   "source": [
    "df = pd.read_csv(\"jan-dec-morocco-12pm.csv\")\n",
    "df.head()"
   ]
  },
  {
   "cell_type": "code",
   "execution_count": 12,
   "metadata": {},
   "outputs": [],
   "source": [
    "data_ssr = []\n",
    "latitudes = []\n",
    "longitudes = []\n",
    "\n",
    "counter = 0\n",
    "total_ssr = 0\n",
    "for row in df.iterrows():\n",
    "    total_ssr += row[1]['ssr']\n",
    "    counter += 1\n",
    "    if(counter == 12):\n",
    "        data_ssr.append(total_ssr)\n",
    "        latitudes.append(row[1][\"latitude\"])\n",
    "        longitudes.append(row[1][\"longitude\"])\n",
    "        total_ssr = 0\n",
    "        counter = 0\n",
    "    #date = row[1]['time'].split(\" \")\n",
    "    #month = (date[0].split(\"-\"))[1]\n",
    "    #print(row[1][\"ssr\"])\n",
    "\n",
    "dataset = {'longitude': longitudes, 'latitude': latitudes, 'ssr': data_ssr}\n",
    "morocco_df = pd.DataFrame(dataset)"
   ]
  },
  {
   "cell_type": "code",
   "execution_count": 13,
   "metadata": {},
   "outputs": [
    {
     "data": {
      "text/html": [
       "<div>\n",
       "<style scoped>\n",
       "    .dataframe tbody tr th:only-of-type {\n",
       "        vertical-align: middle;\n",
       "    }\n",
       "\n",
       "    .dataframe tbody tr th {\n",
       "        vertical-align: top;\n",
       "    }\n",
       "\n",
       "    .dataframe thead th {\n",
       "        text-align: right;\n",
       "    }\n",
       "</style>\n",
       "<table border=\"1\" class=\"dataframe\">\n",
       "  <thead>\n",
       "    <tr style=\"text-align: right;\">\n",
       "      <th></th>\n",
       "      <th>longitude</th>\n",
       "      <th>latitude</th>\n",
       "      <th>ssr</th>\n",
       "    </tr>\n",
       "  </thead>\n",
       "  <tbody>\n",
       "    <tr>\n",
       "      <th>0</th>\n",
       "      <td>-13.16</td>\n",
       "      <td>35.810001</td>\n",
       "      <td>25007182.7</td>\n",
       "    </tr>\n",
       "    <tr>\n",
       "      <th>1</th>\n",
       "      <td>-13.16</td>\n",
       "      <td>35.560001</td>\n",
       "      <td>25102338.7</td>\n",
       "    </tr>\n",
       "    <tr>\n",
       "      <th>2</th>\n",
       "      <td>-13.16</td>\n",
       "      <td>35.310001</td>\n",
       "      <td>25206593.0</td>\n",
       "    </tr>\n",
       "    <tr>\n",
       "      <th>3</th>\n",
       "      <td>-13.16</td>\n",
       "      <td>35.060001</td>\n",
       "      <td>25322749.5</td>\n",
       "    </tr>\n",
       "    <tr>\n",
       "      <th>4</th>\n",
       "      <td>-13.16</td>\n",
       "      <td>34.810001</td>\n",
       "      <td>25472820.4</td>\n",
       "    </tr>\n",
       "  </tbody>\n",
       "</table>\n",
       "</div>"
      ],
      "text/plain": [
       "   longitude   latitude         ssr\n",
       "0     -13.16  35.810001  25007182.7\n",
       "1     -13.16  35.560001  25102338.7\n",
       "2     -13.16  35.310001  25206593.0\n",
       "3     -13.16  35.060001  25322749.5\n",
       "4     -13.16  34.810001  25472820.4"
      ]
     },
     "execution_count": 13,
     "metadata": {},
     "output_type": "execute_result"
    }
   ],
   "source": [
    "morocco_df.head()"
   ]
  },
  {
   "cell_type": "code",
   "execution_count": 16,
   "metadata": {},
   "outputs": [],
   "source": [
    "morocco_df.to_csv(\"morocco_df.csv\", index=False)"
   ]
  },
  {
   "cell_type": "code",
   "execution_count": null,
   "metadata": {},
   "outputs": [],
   "source": []
  }
 ],
 "metadata": {
  "kernelspec": {
   "display_name": "Python 3",
   "language": "python",
   "name": "python3"
  },
  "language_info": {
   "codemirror_mode": {
    "name": "ipython",
    "version": 3
   },
   "file_extension": ".py",
   "mimetype": "text/x-python",
   "name": "python",
   "nbconvert_exporter": "python",
   "pygments_lexer": "ipython3",
   "version": "3.8.3"
  }
 },
 "nbformat": 4,
 "nbformat_minor": 4
}
